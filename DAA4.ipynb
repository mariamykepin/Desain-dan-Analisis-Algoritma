{
  "nbformat": 4,
  "nbformat_minor": 0,
  "metadata": {
    "colab": {
      "provenance": []
    },
    "kernelspec": {
      "name": "python3",
      "display_name": "Python 3"
    },
    "language_info": {
      "name": "python"
    }
  },
  "cells": [
    {
      "cell_type": "markdown",
      "source": [
        "Nama : Maria Maristella Yosephine Kumaat\n",
        "     NIM : 2022071054"
      ],
      "metadata": {
        "id": "tPeIBU47M7h1"
      }
    },
    {
      "cell_type": "code",
      "execution_count": null,
      "metadata": {
        "colab": {
          "base_uri": "https://localhost:8080/"
        },
        "id": "QF-XWYNF6zm2",
        "outputId": "9690985f-662f-4a35-cc17-a596065698c3"
      },
      "outputs": [
        {
          "output_type": "stream",
          "name": "stdout",
          "text": [
            "3 2 1\n"
          ]
        }
      ],
      "source": [
        "var1= 1\n",
        "var2= 2\n",
        "var3= 3\n",
        "var1 , var2 , var3=var3 , var2 , var1\n",
        "\n",
        "cetak ( var1 , var2 , var3 )"
      ]
    },
    {
      "cell_type": "code",
      "source": [
        "def BubbleSort ( daftar ) :\n",
        "    lastElementIndex =  len ( daftar )  -  1\n",
        "\n",
        "    untuk  passNo  dalam rentang ( lastElementIndex , 0 , -1 ):    untuk  idx  dalam rentang ( passNo ): jika daftar [ idx ]  >  daftar [ idx +  1 ]: daftar [ idx ], daftar [ idx +  1 ]  =  daftar [ idx +  1 ], daftar [ idx ]\n",
        "\n",
        "\n",
        "\n",
        "\n",
        "    daftar kembali\n",
        "\n",
        "daftar  =  [ 100 , 20 , 60 , 90 , 40 , 30 , 10 ]\n",
        "diurutkan_daftar = BubbleSort ( daftar )\n",
        "\n",
        "cetak ( sortir_daftar )"
      ],
      "metadata": {
        "colab": {
          "base_uri": "https://localhost:8080/"
        },
        "id": "oBK93-7NBmMM",
        "outputId": "1007bacc-da00-4a92-f30a-9bd68c6aac6b"
      },
      "execution_count": null,
      "outputs": [
        {
          "output_type": "stream",
          "name": "stdout",
          "text": [
            "[10, 20, 30, 40, 60, 90, 100]\n"
          ]
        }
      ]
    },
    {
      "cell_type": "code",
      "source": [
        "def InsertionSort(list):\n",
        "\n",
        "    for i in range(1, len(list)):\n",
        "\n",
        "      j=i-1\n",
        "\n",
        "      next = list[i]\n",
        "\n",
        "      while (list[j] > next) and (j >= 0):\n",
        "\n",
        "        list[j+1] = list[j]\n",
        "\n",
        "        j=j-1\n",
        "\n",
        "        list[j+1] = next\n",
        "    return list\n",
        "\n",
        "list = [89,12,57,16,25,11,75]\n",
        "sorted_ins = InsertionSort(list)\n",
        "\n",
        "print(sorted_ins)"
      ],
      "metadata": {
        "colab": {
          "base_uri": "https://localhost:8080/"
        },
        "id": "yccW3TAvEHMC",
        "outputId": "6f60ab21-7d7a-4e6b-b22c-bca01c9f4d7f"
      },
      "execution_count": null,
      "outputs": [
        {
          "output_type": "stream",
          "name": "stdout",
          "text": [
            "[11, 12, 16, 25, 57, 75, 89]\n"
          ]
        }
      ]
    },
    {
      "cell_type": "code",
      "source": [
        "def LinearSearch (list, item):\n",
        "    index=0\n",
        "    found = False\n",
        "\n",
        "    while index < len(list) and found is False:\n",
        "      if list[index] == item:\n",
        "        found = True\n",
        "      else:\n",
        "        index = index + 1\n",
        "    return found\n",
        "\n",
        "list =['y','u','i','w','o','a','q','u','j','p' ]\n",
        "print(LinearSearch (list, 'a'))"
      ],
      "metadata": {
        "colab": {
          "base_uri": "https://localhost:8080/"
        },
        "id": "yHGcIIGVFtxZ",
        "outputId": "1532e498-54fb-467c-b0e2-bb42049e1eb5"
      },
      "execution_count": null,
      "outputs": [
        {
          "output_type": "stream",
          "name": "stdout",
          "text": [
            "True\n"
          ]
        }
      ]
    },
    {
      "cell_type": "code",
      "source": [
        "def BinarySearch (list, item):\n",
        "\n",
        "    first = 0\n",
        "    last = len(list)-1\n",
        "    found = False\n",
        "\n",
        "    while first<=last and not found:\n",
        "       midpoint = (first + last) //2\n",
        "       if list[midpoint] == item: found = True\n",
        "       else:\n",
        "          if item < list [midpoint]:\n",
        "              last = midpoint-1\n",
        "          else:\n",
        "              first = midpoint+1\n",
        "    return found\n",
        "\n",
        "list =['y','u','i','w','o','a','q','u','j','p' ]\n",
        "print(BinarySearch (list, 'a'))"
      ],
      "metadata": {
        "colab": {
          "base_uri": "https://localhost:8080/"
        },
        "id": "2bppRTUIIEYO",
        "outputId": "f1757e96-fc75-49b6-85f4-75546a7049eb"
      },
      "execution_count": null,
      "outputs": [
        {
          "output_type": "stream",
          "name": "stdout",
          "text": [
            "False\n"
          ]
        }
      ]
    },
    {
      "cell_type": "code",
      "source": [
        "def IntPolsearch(list,x):\n",
        "    idx0=0\n",
        "    idxn=(len(list) - 1)\n",
        "    found = False\n",
        "    while idx0 <= idxn and x >= list[idx0] and x <= list[idxn]:\n",
        "      mid = idx0 +int(((float (idxn-idx0)/( list[idxn]-list[idx0])) * (x-list[idx0])))\n",
        "      if list[mid] == x:\n",
        "        found = True\n",
        "        return found\n",
        "      if list[mid] < x:\n",
        "        idx0= mid + 1\n",
        "\n",
        "    return found\n",
        "\n",
        "\n",
        "list =['y','u','i','w','o','a','q','u','j','p' ]\n",
        "print(IntPolsearch (list, 'u'))"
      ],
      "metadata": {
        "colab": {
          "base_uri": "https://localhost:8080/"
        },
        "id": "TFl0h9opJ_Oi",
        "outputId": "731c3d02-8b19-4504-a975-d90b1ce7743a"
      },
      "execution_count": null,
      "outputs": [
        {
          "output_type": "stream",
          "name": "stdout",
          "text": [
            "False\n"
          ]
        }
      ]
    }
  ]
}