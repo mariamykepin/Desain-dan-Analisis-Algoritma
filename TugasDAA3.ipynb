{
  "nbformat": 4,
  "nbformat_minor": 0,
  "metadata": {
    "colab": {
      "provenance": []
    },
    "kernelspec": {
      "name": "python3",
      "display_name": "Python 3"
    },
    "language_info": {
      "name": "python"
    }
  },
  "cells": [
    {
      "cell_type": "markdown",
      "source": [
        "Latihan"
      ],
      "metadata": {
        "id": "HbZtFSJKz2td"
      }
    },
    {
      "cell_type": "code",
      "execution_count": null,
      "metadata": {
        "id": "-FFEC4DAzVax"
      },
      "outputs": [],
      "source": [
        "import pandas as pd\n",
        "mhs = ([\n",
        "    ['1', 'Informatika', 50, 30, 20 ],\n",
        "    ['2', 'Sistem Informasi', 55, 30, 25  ],\n",
        "    ['3', 'Teknik Sipil', 40, 30, 10]]\n",
        ")\n",
        "df = pd.DataFrame(mhs)\n",
        "df.columns =['No', 'Prodi', 'Mahasiswa', 'laki-laki', 'perempuan']\n",
        "print(df)\n",
        "print(df.columns)"
      ]
    },
    {
      "cell_type": "code",
      "source": [
        "mydata = {\n",
        "    \"Nama\" : \"Maria Maristella\",\n",
        "    \"NIM\" : \"2022071054\",\n",
        "    \"Prodi\" : \"Informatika\",\n",
        "    \"Universitas\" : \"UPJ\"\n",
        "}\n",
        "print(mydata)"
      ],
      "metadata": {
        "id": "d2PHe_uozbDe"
      },
      "execution_count": null,
      "outputs": []
    },
    {
      "cell_type": "code",
      "source": [
        "from datetime import datetime\n",
        "now = datetime.now()\n",
        "date = now.strftime(\"%d\")\n",
        "\n",
        "mahasiswa = [\"Maria Maristella\", 2022071054, \"Informatika\", \"Desain dan Analisis Algoritma\", date, \"Universitas Pembangunan Jaya\"]\n",
        "print(mahasiswa[1])\n",
        "print(mahasiswa[5])\n",
        "print(mahasiswa[3:4])\n"
      ],
      "metadata": {
        "id": "spCwt0C6zdlU"
      },
      "execution_count": null,
      "outputs": []
    },
    {
      "cell_type": "code",
      "source": [
        "from datetime import datetime\n",
        "now = datetime.now()\n",
        "date = now.strftime(\"%d\")\n",
        "\n",
        "mahasiswa = [\"Maria Maristella\", \"2022071054\" , \"Informatika\", \"Desain dan Analisis Algoritma\", date , \"Universitas Pembangunan Jaya\"]\n",
        "for myList in mahasiswa :\n",
        "  print((myList) + \" UPJ\")"
      ],
      "metadata": {
        "id": "-_v5QsaVzhTF"
      },
      "execution_count": null,
      "outputs": []
    },
    {
      "cell_type": "code",
      "source": [
        "from datetime import datetime\n",
        "now = datetime.now()\n",
        "date = now.strftime(\"%d\")\n",
        "\n",
        "mahasiswa = [\"Maria Maristella\", 2022071054, \"Informatika\", \"Desain dan Analisis Algoritma\", date, \"Universitas Pembangunan Jaya\"]\n",
        "print(mahasiswa)"
      ],
      "metadata": {
        "id": "jjIp2QFuzjOU"
      },
      "execution_count": null,
      "outputs": []
    },
    {
      "cell_type": "code",
      "source": [
        "import numpy as np\n",
        "matriks = np.array([[ 100,  200,  300],\n",
        "[700,  600,  500],\n",
        "[900,  1000,  800 ]])\n",
        "print(\"Matriks : \")\n",
        "print(matriks)\n",
        "\n",
        "transpose_matriks = np.transpose(matriks)\n",
        "\n",
        "print(\"Tranpose Matriks : \")\n",
        "print(transpose_matriks)"
      ],
      "metadata": {
        "id": "Ypc7EHJpzkJl"
      },
      "execution_count": null,
      "outputs": []
    },
    {
      "cell_type": "code",
      "source": [
        "acak=(True,{'name' :'depotkode', 'status':'alive'}, [1,2,3])\n",
        "print(acak)"
      ],
      "metadata": {
        "id": "LV2O8gUsznPP"
      },
      "execution_count": null,
      "outputs": []
    },
    {
      "cell_type": "code",
      "source": [
        "Pertama = (100)\n",
        "Kedua = (200, 400, 600)\n",
        "Ketiga = (300)\n",
        "Keempat = (400, 800)\n",
        "nested_tuple = (Pertama, Kedua, Ketiga, Keempat)\n",
        "print(nested_tuple)"
      ],
      "metadata": {
        "id": "iH7ToMKqzrYU"
      },
      "execution_count": null,
      "outputs": []
    },
    {
      "cell_type": "code",
      "source": [
        "import pandas as pd\n",
        "\n",
        "df = pd.DataFrame(\n",
        "    [\n",
        "        ['1','Informatika', '50', '30', '20'],\n",
        "        ['2','Sistem Informasi', '55', '30', '25'],\n",
        "        ['3','Teknik Sipil', '40', '30', '10']\n",
        "\n",
        "    ]\n",
        ")\n",
        "df.columns = ['No', 'Prodi', 'Mahasiswa', 'Laki-laki', 'Perempuan']\n",
        "\n",
        "print(df)"
      ],
      "metadata": {
        "id": "yuuLQWynzr-k"
      },
      "execution_count": null,
      "outputs": []
    },
    {
      "cell_type": "code",
      "source": [
        "UPJ=('Universitas', 'Pembangunan', 'Jaya')\n",
        "UPJ[0:3]\n",
        "\n",
        "print(UPJ[0:3])"
      ],
      "metadata": {
        "id": "zREzSDAtzuFk"
      },
      "execution_count": null,
      "outputs": []
    },
    {
      "cell_type": "markdown",
      "source": [
        "Materi Coding"
      ],
      "metadata": {
        "id": "E9fsBHZPz7mT"
      }
    },
    {
      "cell_type": "code",
      "source": [
        "import pandas as pd\n",
        "\n",
        "data = {'satu': [1,1,1,1,1],\n",
        "        'dua' : [2,2,2,2,2],\n",
        "        'tiga': [3,3,3,3,3]}\n",
        "\n",
        "df = pd.DataFrame(data, index=['a','b','c','d','e'])\n",
        "\n",
        "df.head()\n",
        "print(df.head())\n"
      ],
      "metadata": {
        "id": "uOTu_6PBz-ME"
      },
      "execution_count": null,
      "outputs": []
    },
    {
      "cell_type": "code",
      "source": [
        "import pandas as pd\n",
        "df = pd.DataFrame([\n",
        "['1', 'Fares', 32, True],\n",
        "['2', 'Elena', 23, False],\n",
        "['3', 'Steven', 40, True]])\n",
        "df.columns = ['id', 'name', 'age', 'decision']\n",
        "\n",
        "print(df)\n",
        "\n",
        "df[['name','age']]\n",
        "print(df[['name','age']])\n",
        "\n",
        "df.iloc[:,3]\n",
        "print(df.iloc[:,3])\n",
        "\n",
        "df.iloc[1:3,:]\n",
        "print(df.iloc[1:3,:])\n",
        "\n",
        "df[df.age>30]\n",
        "print(df[df.age>30])\n",
        "\n",
        "df[(df.age<35)&(df.decision==True)]\n",
        "print(df[(df.age<35)&(df.decision==True)])"
      ],
      "metadata": {
        "id": "1iEUHJh20Bek"
      },
      "execution_count": null,
      "outputs": []
    },
    {
      "cell_type": "code",
      "source": [
        "bin_colors ={\n",
        "\"manual_color\": \"Yellow\",\n",
        "\"approved_color\": \"Green\",\n",
        "\"refused_color\": \"Red\"\n",
        "}\n",
        "bin_colors.get('approved_color')\n",
        "print(bin_colors['approved_color'])\n"
      ],
      "metadata": {
        "id": "jFuZwcbP0Dob"
      },
      "execution_count": null,
      "outputs": []
    },
    {
      "cell_type": "code",
      "source": [
        "bin_colors ={\n",
        "\"manual_color\": \"Yellow\",\n",
        "\"approved_color\": \"Green\",\n",
        "\"refused_color\": \"Red\"\n",
        "}\n",
        "\n",
        "bin_colors['approved_color']=\"Purple\"\n",
        "print(bin_colors)\n"
      ],
      "metadata": {
        "id": "Plf604aN0Fj0"
      },
      "execution_count": null,
      "outputs": []
    },
    {
      "cell_type": "code",
      "source": [
        "bin_colors ={\n",
        "\"manual_color\": \"Yellow\",\n",
        "\"approved_color\": \"Green\",\n",
        "\"refused_color\": \"Red\"\n",
        "}\n",
        "print(bin_colors)"
      ],
      "metadata": {
        "id": "s76gjcoq0HZL"
      },
      "execution_count": null,
      "outputs": []
    },
    {
      "cell_type": "code",
      "source": [
        "bin_colors= ['Red', 'Green', 'Blue', 'Yellow']\n",
        "bin_colors[1]\n",
        "bin_colors[0:2]\n",
        "\n",
        "print(bin_colors[1])\n",
        "print(bin_colors[0:2])\n",
        "print(bin_colors[2:])\n"
      ],
      "metadata": {
        "id": "MzrrZEN80Jcz"
      },
      "execution_count": null,
      "outputs": []
    },
    {
      "cell_type": "code",
      "source": [
        "bin_colors=[\"Red\",\"Green\",\"Blue\",\"Yellow\"]\n",
        "for aColor in bin_colors:\n",
        "  print(aColor + \" Square\")"
      ],
      "metadata": {
        "id": "DOvNy11U0Xa7"
      },
      "execution_count": null,
      "outputs": []
    },
    {
      "cell_type": "code",
      "source": [
        "aList = [\"John\", 33, \"Toronto\", True]\n",
        "print(aList)"
      ],
      "metadata": {
        "id": "FKNf7MlP0ZUL"
      },
      "execution_count": null,
      "outputs": []
    },
    {
      "cell_type": "code",
      "source": [
        "import numpy as np\n",
        "matriksC = np.array([[1,2,3],\n",
        "\t\t     [4,5,6]])\n",
        "print(\"Matriks C : \")\n",
        "print(matriksC)\n",
        "\n",
        "transpose_matriks = np.transpose(matriksC)\n",
        "\n",
        "print(\"Tranpose Matriks C : \")\n",
        "print(transpose_matriks)\n"
      ],
      "metadata": {
        "id": "iRuYETan0bB6"
      },
      "execution_count": null,
      "outputs": []
    },
    {
      "cell_type": "code",
      "source": [
        "import numpy as np\n",
        "\n",
        "myMatrix = np.array([[11, 12, 13], [21, 22, 23], [31, 32, 33]])\n",
        "print(myMatrix)\n",
        "[[11, 12, 13],\n",
        "[21, 22, 23],\n",
        "[31, 32, 33]]\n",
        "\n",
        "print(type(myMatrix))\n"
      ],
      "metadata": {
        "id": "JpVxNnxi0csa"
      },
      "execution_count": null,
      "outputs": []
    },
    {
      "cell_type": "code",
      "source": [
        "hariAwal = (\"Senin\", \"Selasa\", \"Rabu\")\n",
        "hariAkhir = (\"Kamis\", \"Jumat\", \"Sabtu\")\n",
        "\n",
        "hari = (hariAwal, hariAkhir)\n",
        "print(hari)"
      ],
      "metadata": {
        "id": "0Nybx3YL0enS"
      },
      "execution_count": null,
      "outputs": []
    },
    {
      "cell_type": "code",
      "source": [
        "set_01 = {4,5,6,2}\n",
        "print(set_01)\n",
        "\n",
        "set_02 = set()\n",
        "set_03 = set([2,1,4,3])\n",
        "print(type(set_02))\n",
        "print(set_03)\n",
        "\n",
        "set_04 = {2,3,4,5,6}\n",
        "set_04.add(1)\n",
        "print(set_04)\n",
        "\n",
        "set_04= {1, 2, 3, 4, 5, 6, 7, 8}\n",
        "set_04.discard(4)#hapus nilai 4\n",
        "print(set_04)\n",
        "set_04.add(10) #menambahkan nilai 10\n",
        "print(set_04)\n",
        "{1, 2, 3, 5, 6, 7, 8, 10}\n"
      ],
      "metadata": {
        "id": "qt62hFEe0iza"
      },
      "execution_count": null,
      "outputs": []
    },
    {
      "cell_type": "code",
      "source": [
        "set_A = {1,2,3,4}\n",
        "set_B = {3,4,5,6}\n",
        "print(set_A|set_B)\n",
        "print(set_A.union(set_B))\n",
        "\n",
        "print(set_A & set_B)\n",
        "print(set_A.intersection(set_B))\n",
        "\n",
        "print(set_A - set_B)\n",
        "print(set_A.difference(set_B))\n",
        "\n",
        "print(set_B - set_A)\n",
        "print(set_B.difference(set_A))\n"
      ],
      "metadata": {
        "id": "9HzaaXxj0lAq"
      },
      "execution_count": null,
      "outputs": []
    },
    {
      "cell_type": "code",
      "source": [
        "green = {'grass', 'leaves'}\n",
        "print(green)"
      ],
      "metadata": {
        "id": "TZ4zT1zd0ndC"
      },
      "execution_count": null,
      "outputs": []
    },
    {
      "cell_type": "code",
      "source": [
        "class stack :\n",
        "    def init(self):\n",
        "        self.items = []\n",
        "    def isEmpety(self):\n",
        "        return self.items==[]\n",
        "    def push(self, items):\n",
        "        self.items.appends(item)\n",
        "    def pop(self):\n",
        "        return self.items.pop()\n",
        "    def peek(self):\n",
        "        return self.item[len(self.items)-1]\n",
        "    def size(self):\n",
        "        return len(self.items)\n",
        "\n",
        "class Node:\n",
        "    def _init_(self,data):\n",
        "        self.left = None\n",
        "        self.right = None\n",
        "        self.data = data\n",
        "    def PrintTree(self):\n",
        "        if self.left:\n",
        "            self.left.PrintTree()\n",
        "        print( self.data),\n",
        "        if self.right:\n",
        "            self.right.PrintTree()\n",
        "\n",
        "root = Node(2)#root\n",
        "root.left = Node(3) #child kiri dari root\n",
        "root.right = Node(5) #child kanan dari root\n",
        "root.left.left = Node(7) #child kiri dari 3\n",
        "root.left.right = Node(9) #child kanan dari 3\n",
        "root.right.left = Node(11) #child kiri dari 5\n",
        "root.right.right = Node(13) #child kanan dari 5\n",
        "root.PrintTree()"
      ],
      "metadata": {
        "id": "PqmLJdb20pap"
      },
      "execution_count": null,
      "outputs": []
    },
    {
      "cell_type": "code",
      "source": [
        "class stack :\n",
        "    def init(self):\n",
        "        self.items = []\n",
        "    def isEmpety(self):\n",
        "        return self.items==[]\n",
        "    def push(self, items):\n",
        "        self.items.appends(item)\n",
        "    def pop(self):\n",
        "        return self.items.pop()\n",
        "    def peek(self):\n",
        "        return self.item[len(self.items)-1]\n",
        "    def size(self):\n",
        "        return len(self.items)\n",
        "\n",
        "class Node:\n",
        "    def _init_(self,data):\n",
        "        self.left = None\n",
        "        self.right = None\n",
        "        self.data = data\n",
        "    def PrintTree(self):\n",
        "        if self.left:\n",
        "            self.left.PrintTree()\n",
        "        print( self.data),\n",
        "        if self.right:\n",
        "            self.right.PrintTree()"
      ],
      "metadata": {
        "id": "W5x67EXT0r6S"
      },
      "execution_count": null,
      "outputs": []
    },
    {
      "cell_type": "code",
      "source": [
        "bin_colors=('Red','Green','Blue','Yellow')\n",
        "bin_colors[1]\n",
        "bin_colors[2:]\n",
        "\n",
        "print(bin_colors[1])\n",
        "print(bin_colors[2:])"
      ],
      "metadata": {
        "id": "28AUtFHH0uHy"
      },
      "execution_count": null,
      "outputs": []
    },
    {
      "cell_type": "code",
      "source": [
        "import numpy as np\n",
        "myVector = [22,33,44,55]\n",
        "print(myVector)\n",
        "print(type(myVector))\n",
        "\n",
        "myVector = np.array([22,33,44,55])\n",
        "print(myVector)\n",
        "print(type(myVector))"
      ],
      "metadata": {
        "id": "eGk4Eat-0v3x"
      },
      "execution_count": null,
      "outputs": []
    }
  ]
}